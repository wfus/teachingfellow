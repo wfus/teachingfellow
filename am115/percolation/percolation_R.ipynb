{
 "cells": [
  {
   "cell_type": "code",
   "execution_count": 6,
   "metadata": {
    "ExecuteTime": {
     "end_time": "2020-03-22T17:55:27.758868Z",
     "start_time": "2020-03-22T17:55:27.742Z"
    }
   },
   "outputs": [],
   "source": [
    "library(\"igraph\")"
   ]
  },
  {
   "cell_type": "code",
   "execution_count": null,
   "metadata": {},
   "outputs": [],
   "source": []
  },
  {
   "cell_type": "code",
   "execution_count": 9,
   "metadata": {
    "ExecuteTime": {
     "end_time": "2020-03-22T17:55:47.633745Z",
     "start_time": "2020-03-22T17:55:47.487Z"
    }
   },
   "outputs": [],
   "source": [
    "net = read_graph('hep-th.gml', format=\"gml\")"
   ]
  },
  {
   "cell_type": "code",
   "execution_count": 36,
   "metadata": {
    "ExecuteTime": {
     "end_time": "2020-03-22T18:02:34.196142Z",
     "start_time": "2020-03-22T18:02:27.356Z"
    }
   },
   "outputs": [],
   "source": [
    "adjlist = get.adjlist(net)"
   ]
  },
  {
   "cell_type": "code",
   "execution_count": 64,
   "metadata": {
    "ExecuteTime": {
     "end_time": "2020-03-22T18:04:06.477592Z",
     "start_time": "2020-03-22T18:04:06.458Z"
    }
   },
   "outputs": [],
   "source": [
    "test = adjlist[[2]]"
   ]
  },
  {
   "cell_type": "code",
   "execution_count": 71,
   "metadata": {
    "ExecuteTime": {
     "end_time": "2020-03-22T18:04:20.415356Z",
     "start_time": "2020-03-22T18:04:20.395Z"
    }
   },
   "outputs": [
    {
     "data": {
      "text/plain": [
       "+ 9/8361 vertices, from b032926:\n",
       "[1]    3  405  882 1209 1279 2117 2292 4467 7530"
      ]
     },
     "metadata": {},
     "output_type": "display_data"
    }
   ],
   "source": [
    "test"
   ]
  },
  {
   "cell_type": "code",
   "execution_count": null,
   "metadata": {},
   "outputs": [],
   "source": []
  }
 ],
 "metadata": {
  "kernelspec": {
   "display_name": "R",
   "language": "R",
   "name": "ir"
  },
  "latex_envs": {
   "LaTeX_envs_menu_present": true,
   "autoclose": false,
   "autocomplete": true,
   "bibliofile": "biblio.bib",
   "cite_by": "apalike",
   "current_citInitial": 1,
   "eqLabelWithNumbers": true,
   "eqNumInitial": 1,
   "hotkeys": {
    "equation": "Ctrl-E",
    "itemize": "Ctrl-I"
   },
   "labels_anchors": false,
   "latex_user_defs": false,
   "report_style_numbering": false,
   "user_envs_cfg": false
  },
  "toc": {
   "base_numbering": 1,
   "nav_menu": {},
   "number_sections": true,
   "sideBar": true,
   "skip_h1_title": false,
   "title_cell": "Table of Contents",
   "title_sidebar": "Contents",
   "toc_cell": false,
   "toc_position": {},
   "toc_section_display": true,
   "toc_window_display": false
  }
 },
 "nbformat": 4,
 "nbformat_minor": 4
}
